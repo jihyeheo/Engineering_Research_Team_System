{
 "cells": [
  {
   "cell_type": "markdown",
   "metadata": {},
   "source": [
    "## Build_in_Function"
   ]
  },
  {
   "cell_type": "markdown",
   "metadata": {},
   "source": [
    "#### dir\n",
    "\n",
    "dir은 객체가 자체적으로 가지고 있는 변수나 함수를 보여준다. 즉,어떤 객체를 인자로 넣어주면 해당 객체가 어떤 변수와 메소드를 가지고 있는지 알려주는 함수이다."
   ]
  },
  {
   "cell_type": "code",
   "execution_count": 1,
   "metadata": {},
   "outputs": [
    {
     "data": {
      "text/plain": [
       "['__add__',\n",
       " '__class__',\n",
       " '__contains__',\n",
       " '__delattr__',\n",
       " '__delitem__',\n",
       " '__dir__',\n",
       " '__doc__',\n",
       " '__eq__',\n",
       " '__format__',\n",
       " '__ge__',\n",
       " '__getattribute__',\n",
       " '__getitem__',\n",
       " '__gt__',\n",
       " '__hash__',\n",
       " '__iadd__',\n",
       " '__imul__',\n",
       " '__init__',\n",
       " '__init_subclass__',\n",
       " '__iter__',\n",
       " '__le__',\n",
       " '__len__',\n",
       " '__lt__',\n",
       " '__mul__',\n",
       " '__ne__',\n",
       " '__new__',\n",
       " '__reduce__',\n",
       " '__reduce_ex__',\n",
       " '__repr__',\n",
       " '__reversed__',\n",
       " '__rmul__',\n",
       " '__setattr__',\n",
       " '__setitem__',\n",
       " '__sizeof__',\n",
       " '__str__',\n",
       " '__subclasshook__',\n",
       " 'append',\n",
       " 'clear',\n",
       " 'copy',\n",
       " 'count',\n",
       " 'extend',\n",
       " 'index',\n",
       " 'insert',\n",
       " 'pop',\n",
       " 'remove',\n",
       " 'reverse',\n",
       " 'sort']"
      ]
     },
     "execution_count": 1,
     "metadata": {},
     "output_type": "execute_result"
    }
   ],
   "source": [
    "dir([1,2,3]) #리스트가 가지고 있는 객체"
   ]
  },
  {
   "cell_type": "code",
   "execution_count": 3,
   "metadata": {},
   "outputs": [
    {
     "data": {
      "text/plain": [
       "['__add__',\n",
       " '__class__',\n",
       " '__contains__',\n",
       " '__delattr__',\n",
       " '__delitem__',\n",
       " '__dir__',\n",
       " '__doc__',\n",
       " '__eq__',\n",
       " '__format__',\n",
       " '__ge__',\n",
       " '__getattribute__',\n",
       " '__getitem__',\n",
       " '__gt__',\n",
       " '__hash__',\n",
       " '__iadd__',\n",
       " '__imul__',\n",
       " '__init__',\n",
       " '__init_subclass__',\n",
       " '__iter__',\n",
       " '__le__',\n",
       " '__len__',\n",
       " '__lt__',\n",
       " '__mul__',\n",
       " '__ne__',\n",
       " '__new__',\n",
       " '__reduce__',\n",
       " '__reduce_ex__',\n",
       " '__repr__',\n",
       " '__reversed__',\n",
       " '__rmul__',\n",
       " '__setattr__',\n",
       " '__setitem__',\n",
       " '__sizeof__',\n",
       " '__str__',\n",
       " '__subclasshook__',\n",
       " 'append',\n",
       " 'clear',\n",
       " 'copy',\n",
       " 'count',\n",
       " 'extend',\n",
       " 'index',\n",
       " 'insert',\n",
       " 'pop',\n",
       " 'remove',\n",
       " 'reverse',\n",
       " 'sort']"
      ]
     },
     "execution_count": 3,
     "metadata": {},
     "output_type": "execute_result"
    }
   ],
   "source": [
    "dir(['hello']) # 문자열"
   ]
  },
  {
   "cell_type": "markdown",
   "metadata": {},
   "source": [
    "#### enumerate\n",
    "\n",
    "열거하다라는 뜻으로 순서가 있는 자료형(리스트, 튜플, 문자열)을 입력으로 받아 인덱스 값을 포함하는 enumerate 객체를 돌려준다."
   ]
  },
  {
   "cell_type": "code",
   "execution_count": 4,
   "metadata": {},
   "outputs": [
    {
     "name": "stdout",
     "output_type": "stream",
     "text": [
      "0 body\n",
      "1 foo\n",
      "2 bar\n"
     ]
    }
   ],
   "source": [
    "for i, name in enumerate(['body','foo','bar']):\n",
    "    print(i,name)"
   ]
  },
  {
   "cell_type": "code",
   "execution_count": 5,
   "metadata": {},
   "outputs": [
    {
     "name": "stdout",
     "output_type": "stream",
     "text": [
      "0 3\n",
      "1 4\n",
      "2 5\n",
      "3 6\n",
      "4 7\n",
      "5 8\n",
      "6 9\n"
     ]
    }
   ],
   "source": [
    "for i, name in enumerate(range(3,10)):\n",
    "    print(i,name)"
   ]
  },
  {
   "cell_type": "markdown",
   "metadata": {},
   "source": [
    "#### eval\n",
    "\n",
    "eval은 실행 가능한 문자열을 입력으로 받아 문자열을 실행한 결과값을 돌려주는 함수이다."
   ]
  },
  {
   "cell_type": "code",
   "execution_count": 7,
   "metadata": {},
   "outputs": [
    {
     "data": {
      "text/plain": [
       "3"
      ]
     },
     "execution_count": 7,
     "metadata": {},
     "output_type": "execute_result"
    }
   ],
   "source": [
    "eval('1+2')"
   ]
  },
  {
   "cell_type": "code",
   "execution_count": 8,
   "metadata": {},
   "outputs": [
    {
     "ename": "NameError",
     "evalue": "name 'hia' is not defined",
     "output_type": "error",
     "traceback": [
      "\u001b[1;31m---------------------------------------------------------------------------\u001b[0m",
      "\u001b[1;31mNameError\u001b[0m                                 Traceback (most recent call last)",
      "\u001b[1;32m<ipython-input-8-ddd7b3e1b6be>\u001b[0m in \u001b[0;36m<module>\u001b[1;34m\u001b[0m\n\u001b[1;32m----> 1\u001b[1;33m \u001b[0meval\u001b[0m\u001b[1;33m(\u001b[0m\u001b[1;34m'hi'\u001b[0m\u001b[1;33m+\u001b[0m\u001b[1;34m'a'\u001b[0m\u001b[1;33m)\u001b[0m\u001b[1;33m\u001b[0m\u001b[1;33m\u001b[0m\u001b[0m\n\u001b[0m",
      "\u001b[1;32m<string>\u001b[0m in \u001b[0;36m<module>\u001b[1;34m\u001b[0m\n",
      "\u001b[1;31mNameError\u001b[0m: name 'hia' is not defined"
     ]
    }
   ],
   "source": [
    "eval('hi'+'a')"
   ]
  },
  {
   "cell_type": "code",
   "execution_count": 10,
   "metadata": {},
   "outputs": [
    {
     "data": {
      "text/plain": [
       "'hia'"
      ]
     },
     "execution_count": 10,
     "metadata": {},
     "output_type": "execute_result"
    }
   ],
   "source": [
    "eval(\"'hi'+'a'\")"
   ]
  },
  {
   "cell_type": "code",
   "execution_count": 12,
   "metadata": {},
   "outputs": [
    {
     "data": {
      "text/plain": [
       "(0, 4)"
      ]
     },
     "execution_count": 12,
     "metadata": {},
     "output_type": "execute_result"
    }
   ],
   "source": [
    "eval('divmod(4,5)') # 두 숫자를 인수로 전달 받아 첫번재 인자를 두번째 인자로 나눔\n",
    "# 몫과 나머지를 tuple 형식으로 반환한다."
   ]
  },
  {
   "cell_type": "markdown",
   "metadata": {},
   "source": [
    "#### input"
   ]
  },
  {
   "cell_type": "code",
   "execution_count": 13,
   "metadata": {},
   "outputs": [
    {
     "name": "stdout",
     "output_type": "stream",
     "text": [
      "hi\n"
     ]
    }
   ],
   "source": [
    "a = input()\n"
   ]
  },
  {
   "cell_type": "code",
   "execution_count": 14,
   "metadata": {},
   "outputs": [
    {
     "data": {
      "text/plain": [
       "'hi'"
      ]
     },
     "execution_count": 14,
     "metadata": {},
     "output_type": "execute_result"
    }
   ],
   "source": [
    "a"
   ]
  },
  {
   "cell_type": "code",
   "execution_count": 16,
   "metadata": {},
   "outputs": [
    {
     "data": {
      "text/plain": [
       "'Enterhi'"
      ]
     },
     "execution_count": 16,
     "metadata": {},
     "output_type": "execute_result"
    }
   ],
   "source": [
    "b = \"Enter\"+a\n",
    "b"
   ]
  },
  {
   "cell_type": "markdown",
   "metadata": {},
   "source": [
    "#### int, float"
   ]
  },
  {
   "cell_type": "code",
   "execution_count": 17,
   "metadata": {},
   "outputs": [
    {
     "data": {
      "text/plain": [
       "3"
      ]
     },
     "execution_count": 17,
     "metadata": {},
     "output_type": "execute_result"
    }
   ],
   "source": [
    "int('3')"
   ]
  },
  {
   "cell_type": "code",
   "execution_count": 18,
   "metadata": {},
   "outputs": [
    {
     "data": {
      "text/plain": [
       "3"
      ]
     },
     "execution_count": 18,
     "metadata": {},
     "output_type": "execute_result"
    }
   ],
   "source": [
    "int(3.4)"
   ]
  },
  {
   "cell_type": "code",
   "execution_count": 21,
   "metadata": {},
   "outputs": [
    {
     "data": {
      "text/plain": [
       "3"
      ]
     },
     "execution_count": 21,
     "metadata": {},
     "output_type": "execute_result"
    }
   ],
   "source": [
    "int('11',2) # 2진수로 표현된 11의 10진수 값은 다음과 같이 구한다."
   ]
  },
  {
   "cell_type": "code",
   "execution_count": 22,
   "metadata": {},
   "outputs": [
    {
     "data": {
      "text/plain": [
       "26"
      ]
     },
     "execution_count": 22,
     "metadata": {},
     "output_type": "execute_result"
    }
   ],
   "source": [
    "int('1A',16) # 16진수로 표현하는 1A의 10진수 값은 다음과 같이 구한다."
   ]
  },
  {
   "cell_type": "markdown",
   "metadata": {},
   "source": [
    "#### len"
   ]
  },
  {
   "cell_type": "code",
   "execution_count": 23,
   "metadata": {},
   "outputs": [
    {
     "data": {
      "text/plain": [
       "6"
      ]
     },
     "execution_count": 23,
     "metadata": {},
     "output_type": "execute_result"
    }
   ],
   "source": [
    "len(\"Python\")"
   ]
  },
  {
   "cell_type": "code",
   "execution_count": 24,
   "metadata": {},
   "outputs": [
    {
     "data": {
      "text/plain": [
       "3"
      ]
     },
     "execution_count": 24,
     "metadata": {},
     "output_type": "execute_result"
    }
   ],
   "source": [
    "len([1,2,3])"
   ]
  },
  {
   "cell_type": "code",
   "execution_count": 25,
   "metadata": {},
   "outputs": [
    {
     "data": {
      "text/plain": [
       "2"
      ]
     },
     "execution_count": 25,
     "metadata": {},
     "output_type": "execute_result"
    }
   ],
   "source": [
    "len((1,'a'))"
   ]
  },
  {
   "cell_type": "markdown",
   "metadata": {},
   "source": [
    "#### list\n",
    "\n",
    "반복 가능한 자료형 s를 입력받아 리스트로 만들어 돌려주는 함수이다."
   ]
  },
  {
   "cell_type": "code",
   "execution_count": 26,
   "metadata": {},
   "outputs": [
    {
     "data": {
      "text/plain": [
       "['p', 'y', 't', 'h', 'o', 'n']"
      ]
     },
     "execution_count": 26,
     "metadata": {},
     "output_type": "execute_result"
    }
   ],
   "source": [
    "list('python')"
   ]
  },
  {
   "cell_type": "code",
   "execution_count": 27,
   "metadata": {},
   "outputs": [
    {
     "data": {
      "text/plain": [
       "[1, 2, 3]"
      ]
     },
     "execution_count": 27,
     "metadata": {},
     "output_type": "execute_result"
    }
   ],
   "source": [
    "list((1,2,3))"
   ]
  },
  {
   "cell_type": "markdown",
   "metadata": {},
   "source": [
    "#### map\n",
    "\n",
    "map(f,iterable)은 함수(f)와 반복 가능한(iterable) 자료형을 입력으로 받는다.\n",
    "map은 입력받은 자료형의 각 요소를 함수 f가 수행한 결과를 묶어서 돌려주는 함수이다."
   ]
  },
  {
   "cell_type": "code",
   "execution_count": 28,
   "metadata": {},
   "outputs": [
    {
     "name": "stdout",
     "output_type": "stream",
     "text": [
      "[2, 4, 6, 8]\n"
     ]
    }
   ],
   "source": [
    "def two_times(numberList):\n",
    "    result = []\n",
    "    for number in numberList:\n",
    "        result.append(number*2)\n",
    "    return result\n",
    "\n",
    "result = two_times([1,2,3,4])\n",
    "print(result)"
   ]
  },
  {
   "cell_type": "markdown",
   "metadata": {},
   "source": [
    "위를 map 함수를 사용하여 나타내면 다음과 같이 나타낼 수 있다."
   ]
  },
  {
   "cell_type": "code",
   "execution_count": 30,
   "metadata": {},
   "outputs": [
    {
     "data": {
      "text/plain": [
       "[2, 4, 6, 8]"
      ]
     },
     "execution_count": 30,
     "metadata": {},
     "output_type": "execute_result"
    }
   ],
   "source": [
    "def two_times(x):\n",
    "    return x*2\n",
    "\n",
    "list(map(two_times,[1,2,3,4]))"
   ]
  },
  {
   "cell_type": "markdown",
   "metadata": {},
   "source": [
    "이를 더 간단하게 하면 다음과 같다."
   ]
  },
  {
   "cell_type": "code",
   "execution_count": 31,
   "metadata": {},
   "outputs": [
    {
     "data": {
      "text/plain": [
       "[2, 4, 6, 8]"
      ]
     },
     "execution_count": 31,
     "metadata": {},
     "output_type": "execute_result"
    }
   ],
   "source": [
    "list(map(lambda a : a*2, [1,2,3,4]))"
   ]
  },
  {
   "cell_type": "markdown",
   "metadata": {},
   "source": [
    "#### max"
   ]
  },
  {
   "cell_type": "code",
   "execution_count": 32,
   "metadata": {},
   "outputs": [
    {
     "data": {
      "text/plain": [
       "9"
      ]
     },
     "execution_count": 32,
     "metadata": {},
     "output_type": "execute_result"
    }
   ],
   "source": [
    "max([1,4,7,9])"
   ]
  },
  {
   "cell_type": "code",
   "execution_count": 33,
   "metadata": {},
   "outputs": [
    {
     "data": {
      "text/plain": [
       "'y'"
      ]
     },
     "execution_count": 33,
     "metadata": {},
     "output_type": "execute_result"
    }
   ],
   "source": [
    "max('python')"
   ]
  },
  {
   "cell_type": "markdown",
   "metadata": {},
   "source": [
    "#### min"
   ]
  },
  {
   "cell_type": "code",
   "execution_count": 34,
   "metadata": {},
   "outputs": [
    {
     "data": {
      "text/plain": [
       "1"
      ]
     },
     "execution_count": 34,
     "metadata": {},
     "output_type": "execute_result"
    }
   ],
   "source": [
    "min([1,4,2,7])"
   ]
  },
  {
   "cell_type": "code",
   "execution_count": 35,
   "metadata": {},
   "outputs": [
    {
     "data": {
      "text/plain": [
       "'a'"
      ]
     },
     "execution_count": 35,
     "metadata": {},
     "output_type": "execute_result"
    }
   ],
   "source": [
    "min('pythona')"
   ]
  },
  {
   "cell_type": "markdown",
   "metadata": {},
   "source": [
    "#### range"
   ]
  },
  {
   "cell_type": "code",
   "execution_count": 36,
   "metadata": {},
   "outputs": [
    {
     "data": {
      "text/plain": [
       "[0, 1, 2, 3, 4]"
      ]
     },
     "execution_count": 36,
     "metadata": {},
     "output_type": "execute_result"
    }
   ],
   "source": [
    "# 인수가 하나일 경우\n",
    "list(range(5))"
   ]
  },
  {
   "cell_type": "code",
   "execution_count": 37,
   "metadata": {},
   "outputs": [
    {
     "data": {
      "text/plain": [
       "[5, 6, 7, 8, 9]"
      ]
     },
     "execution_count": 37,
     "metadata": {},
     "output_type": "execute_result"
    }
   ],
   "source": [
    "# 인수가 2개일 경우\n",
    "list(range(5,10))"
   ]
  },
  {
   "cell_type": "code",
   "execution_count": 38,
   "metadata": {},
   "outputs": [
    {
     "data": {
      "text/plain": [
       "[1, 3, 5, 7, 9]"
      ]
     },
     "execution_count": 38,
     "metadata": {},
     "output_type": "execute_result"
    }
   ],
   "source": [
    "# 인수가 3개일 경우\n",
    "list(range(1,10,2))"
   ]
  },
  {
   "cell_type": "code",
   "execution_count": 41,
   "metadata": {},
   "outputs": [
    {
     "data": {
      "text/plain": [
       "[0, -1, -2, -3, -4, -5, -6, -7, -8, -9]"
      ]
     },
     "execution_count": 41,
     "metadata": {},
     "output_type": "execute_result"
    }
   ],
   "source": [
    "# 인수가 3개일 경우\n",
    "list(range(0,-10,-1))"
   ]
  },
  {
   "cell_type": "markdown",
   "metadata": {},
   "source": [
    "#### round\n",
    "\n",
    "반올림"
   ]
  },
  {
   "cell_type": "code",
   "execution_count": 42,
   "metadata": {},
   "outputs": [
    {
     "data": {
      "text/plain": [
       "5"
      ]
     },
     "execution_count": 42,
     "metadata": {},
     "output_type": "execute_result"
    }
   ],
   "source": [
    "round(4.6)"
   ]
  },
  {
   "cell_type": "code",
   "execution_count": 43,
   "metadata": {},
   "outputs": [
    {
     "data": {
      "text/plain": [
       "4.22"
      ]
     },
     "execution_count": 43,
     "metadata": {},
     "output_type": "execute_result"
    }
   ],
   "source": [
    "round(4.22222 , 2)"
   ]
  },
  {
   "cell_type": "markdown",
   "metadata": {},
   "source": [
    "#### sorted\n",
    "정렬, 입력값을 정렬한 후 그 결과를 리스트로 돌려주는 함수이다."
   ]
  },
  {
   "cell_type": "code",
   "execution_count": 44,
   "metadata": {},
   "outputs": [
    {
     "data": {
      "text/plain": [
       "[1, 2, 3, 4, 6]"
      ]
     },
     "execution_count": 44,
     "metadata": {},
     "output_type": "execute_result"
    }
   ],
   "source": [
    "sorted([1,3,2,6,4])"
   ]
  },
  {
   "cell_type": "code",
   "execution_count": 45,
   "metadata": {},
   "outputs": [
    {
     "data": {
      "text/plain": [
       "['a', 'b', 'c']"
      ]
     },
     "execution_count": 45,
     "metadata": {},
     "output_type": "execute_result"
    }
   ],
   "source": [
    "sorted(['a', 'c', 'b'])"
   ]
  },
  {
   "cell_type": "code",
   "execution_count": 46,
   "metadata": {},
   "outputs": [
    {
     "data": {
      "text/plain": [
       "['h', 'n', 'o', 'p', 't', 'y']"
      ]
     },
     "execution_count": 46,
     "metadata": {},
     "output_type": "execute_result"
    }
   ],
   "source": [
    "sorted(\"python\")"
   ]
  },
  {
   "cell_type": "code",
   "execution_count": 47,
   "metadata": {},
   "outputs": [
    {
     "data": {
      "text/plain": [
       "[1, 2, 3]"
      ]
     },
     "execution_count": 47,
     "metadata": {},
     "output_type": "execute_result"
    }
   ],
   "source": [
    "sorted((3,2,1))"
   ]
  },
  {
   "cell_type": "markdown",
   "metadata": {},
   "source": [
    "#### str\n",
    "\n",
    "str(object)는 문자열 형태로 객체를 변환하여 돌려주는 함수이다."
   ]
  },
  {
   "cell_type": "code",
   "execution_count": 48,
   "metadata": {},
   "outputs": [
    {
     "data": {
      "text/plain": [
       "'3'"
      ]
     },
     "execution_count": 48,
     "metadata": {},
     "output_type": "execute_result"
    }
   ],
   "source": [
    "str(3)"
   ]
  },
  {
   "cell_type": "code",
   "execution_count": 49,
   "metadata": {},
   "outputs": [
    {
     "data": {
      "text/plain": [
       "'hi'"
      ]
     },
     "execution_count": 49,
     "metadata": {},
     "output_type": "execute_result"
    }
   ],
   "source": [
    "str('hi')"
   ]
  },
  {
   "cell_type": "code",
   "execution_count": 50,
   "metadata": {},
   "outputs": [
    {
     "data": {
      "text/plain": [
       "'HI'"
      ]
     },
     "execution_count": 50,
     "metadata": {},
     "output_type": "execute_result"
    }
   ],
   "source": [
    "str('hi'.upper())"
   ]
  },
  {
   "cell_type": "markdown",
   "metadata": {},
   "source": [
    "#### sum"
   ]
  },
  {
   "cell_type": "code",
   "execution_count": 51,
   "metadata": {},
   "outputs": [
    {
     "data": {
      "text/plain": [
       "6"
      ]
     },
     "execution_count": 51,
     "metadata": {},
     "output_type": "execute_result"
    }
   ],
   "source": [
    "sum([1,2,3])"
   ]
  },
  {
   "cell_type": "code",
   "execution_count": 52,
   "metadata": {},
   "outputs": [
    {
     "data": {
      "text/plain": [
       "12"
      ]
     },
     "execution_count": 52,
     "metadata": {},
     "output_type": "execute_result"
    }
   ],
   "source": [
    "sum([3,3,3,3])"
   ]
  },
  {
   "cell_type": "markdown",
   "metadata": {},
   "source": [
    "#### tuple\n",
    "tuple은 반복 가능한 자료형을 입력 받아 튜플 형태로 바꾸어 돌려주는 함수이다. 튜플이 입력으로 들어오면 그대로 돌려준다."
   ]
  },
  {
   "cell_type": "code",
   "execution_count": 53,
   "metadata": {},
   "outputs": [
    {
     "data": {
      "text/plain": [
       "('a', 'b', 'c')"
      ]
     },
     "execution_count": 53,
     "metadata": {},
     "output_type": "execute_result"
    }
   ],
   "source": [
    "tuple(\"abc\")"
   ]
  },
  {
   "cell_type": "code",
   "execution_count": 54,
   "metadata": {},
   "outputs": [
    {
     "data": {
      "text/plain": [
       "(1, 2, 3)"
      ]
     },
     "execution_count": 54,
     "metadata": {},
     "output_type": "execute_result"
    }
   ],
   "source": [
    "tuple([1,2,3])"
   ]
  },
  {
   "cell_type": "code",
   "execution_count": 55,
   "metadata": {},
   "outputs": [
    {
     "data": {
      "text/plain": [
       "(1, 2, 3)"
      ]
     },
     "execution_count": 55,
     "metadata": {},
     "output_type": "execute_result"
    }
   ],
   "source": [
    "tuple((1,2,3))"
   ]
  },
  {
   "cell_type": "markdown",
   "metadata": {},
   "source": [
    "#### type\n",
    "\n",
    "입력값의 자료형이 무엇인지 알려 주는 함수이다."
   ]
  },
  {
   "cell_type": "code",
   "execution_count": 56,
   "metadata": {},
   "outputs": [
    {
     "data": {
      "text/plain": [
       "str"
      ]
     },
     "execution_count": 56,
     "metadata": {},
     "output_type": "execute_result"
    }
   ],
   "source": [
    "type('abc')"
   ]
  },
  {
   "cell_type": "code",
   "execution_count": 57,
   "metadata": {},
   "outputs": [
    {
     "data": {
      "text/plain": [
       "list"
      ]
     },
     "execution_count": 57,
     "metadata": {},
     "output_type": "execute_result"
    }
   ],
   "source": [
    "type([])"
   ]
  },
  {
   "cell_type": "code",
   "execution_count": 58,
   "metadata": {},
   "outputs": [
    {
     "data": {
      "text/plain": [
       "_io.TextIOWrapper"
      ]
     },
     "execution_count": 58,
     "metadata": {},
     "output_type": "execute_result"
    }
   ],
   "source": [
    "type(open(\"test\", 'w'))"
   ]
  },
  {
   "cell_type": "markdown",
   "metadata": {},
   "source": [
    "#### zip\n",
    "\n",
    "동일한 개수로 이루어진 자료형을 묶어 주는 역할을 하는 함수이다."
   ]
  },
  {
   "cell_type": "code",
   "execution_count": 59,
   "metadata": {},
   "outputs": [
    {
     "data": {
      "text/plain": [
       "[(1, 4), (2, 5), (3, 6)]"
      ]
     },
     "execution_count": 59,
     "metadata": {},
     "output_type": "execute_result"
    }
   ],
   "source": [
    "list(zip([1, 2, 3], [4, 5, 6]))"
   ]
  },
  {
   "cell_type": "code",
   "execution_count": 60,
   "metadata": {},
   "outputs": [
    {
     "data": {
      "text/plain": [
       "[(1, 4, 7), (2, 5, 8), (3, 6, 9)]"
      ]
     },
     "execution_count": 60,
     "metadata": {},
     "output_type": "execute_result"
    }
   ],
   "source": [
    "list(zip([1, 2, 3], [4, 5, 6], [7, 8, 9]))"
   ]
  },
  {
   "cell_type": "code",
   "execution_count": 61,
   "metadata": {},
   "outputs": [
    {
     "data": {
      "text/plain": [
       "[('a', 'd'), ('b', 'e'), ('c', 'f')]"
      ]
     },
     "execution_count": 61,
     "metadata": {},
     "output_type": "execute_result"
    }
   ],
   "source": [
    "list(zip(\"abc\", \"def\"))"
   ]
  },
  {
   "cell_type": "markdown",
   "metadata": {},
   "source": [
    "## Library"
   ]
  },
  {
   "cell_type": "markdown",
   "metadata": {},
   "source": [
    "#### sys"
   ]
  },
  {
   "cell_type": "code",
   "execution_count": 2,
   "metadata": {},
   "outputs": [
    {
     "name": "stdout",
     "output_type": "stream",
     "text": [
      "['C:\\\\Users\\\\hu612\\\\Anaconda3\\\\lib\\\\site-packages\\\\ipykernel_launcher.py', '-f', 'C:\\\\Users\\\\hu612\\\\AppData\\\\Roaming\\\\jupyter\\\\runtime\\\\kernel-204884ca-c15b-4215-b595-c0605ba09a1a.json']\n"
     ]
    }
   ],
   "source": [
    "import sys\n",
    "print(sys.argv) # 명령 행에서 인수 전달하기"
   ]
  },
  {
   "cell_type": "code",
   "execution_count": 3,
   "metadata": {},
   "outputs": [
    {
     "ename": "SystemExit",
     "evalue": "",
     "output_type": "error",
     "traceback": [
      "An exception has occurred, use %tb to see the full traceback.\n",
      "\u001b[1;31mSystemExit\u001b[0m\n"
     ]
    },
    {
     "name": "stderr",
     "output_type": "stream",
     "text": [
      "C:\\Users\\hu612\\Anaconda3\\lib\\site-packages\\IPython\\core\\interactiveshell.py:3426: UserWarning: To exit: use 'exit', 'quit', or Ctrl-D.\n",
      "  warn(\"To exit: use 'exit', 'quit', or Ctrl-D.\", stacklevel=1)\n"
     ]
    }
   ],
   "source": [
    "sys.exit()"
   ]
  },
  {
   "cell_type": "code",
   "execution_count": 4,
   "metadata": {},
   "outputs": [
    {
     "data": {
      "text/plain": [
       "['C:\\\\Users\\\\hu612\\\\Desktop\\\\School\\\\대학원\\\\정보통계학과\\\\여대학원생 공학연구팀제\\\\6,7월_회의',\n",
       " 'C:\\\\Users\\\\hu612\\\\Anaconda3\\\\python38.zip',\n",
       " 'C:\\\\Users\\\\hu612\\\\Anaconda3\\\\DLLs',\n",
       " 'C:\\\\Users\\\\hu612\\\\Anaconda3\\\\lib',\n",
       " 'C:\\\\Users\\\\hu612\\\\Anaconda3',\n",
       " '',\n",
       " 'C:\\\\Users\\\\hu612\\\\Anaconda3\\\\lib\\\\site-packages',\n",
       " 'C:\\\\Users\\\\hu612\\\\Anaconda3\\\\lib\\\\site-packages\\\\win32',\n",
       " 'C:\\\\Users\\\\hu612\\\\Anaconda3\\\\lib\\\\site-packages\\\\win32\\\\lib',\n",
       " 'C:\\\\Users\\\\hu612\\\\Anaconda3\\\\lib\\\\site-packages\\\\Pythonwin',\n",
       " 'C:\\\\Users\\\\hu612\\\\Anaconda3\\\\lib\\\\site-packages\\\\IPython\\\\extensions',\n",
       " 'C:\\\\Users\\\\hu612\\\\.ipython']"
      ]
     },
     "execution_count": 4,
     "metadata": {},
     "output_type": "execute_result"
    }
   ],
   "source": [
    "import sys\n",
    "sys.path"
   ]
  },
  {
   "cell_type": "code",
   "execution_count": 5,
   "metadata": {},
   "outputs": [],
   "source": [
    "sys.path.append('C:/doit/mymod')"
   ]
  },
  {
   "cell_type": "markdown",
   "metadata": {},
   "source": [
    "#### pickle"
   ]
  },
  {
   "cell_type": "code",
   "execution_count": 6,
   "metadata": {},
   "outputs": [],
   "source": [
    "import pickle\n",
    "f = open(\"test.txt\",'wb')\n",
    "data = {1:'Python', 2:'you need'}\n",
    "pickle.dump(data,f)\n",
    "f.close()"
   ]
  },
  {
   "attachments": {
    "image.png": {
     "image/png": "[encoded data removed]"
    }
   },
   "cell_type": "markdown",
   "metadata": {},
   "source": [
    "![image.png](attachment:image.png)"
   ]
  },
  {
   "cell_type": "code",
   "execution_count": 7,
   "metadata": {},
   "outputs": [
    {
     "name": "stdout",
     "output_type": "stream",
     "text": [
      "{1: 'Python', 2: 'you need'}\n"
     ]
    }
   ],
   "source": [
    "import pickle\n",
    "f = open(\"test.txt\",'rb')\n",
    "data = pickle.load(f)\n",
    "print(data)"
   ]
  },
  {
   "cell_type": "markdown",
   "metadata": {},
   "source": [
    "#### os"
   ]
  },
  {
   "cell_type": "code",
   "execution_count": 8,
   "metadata": {},
   "outputs": [
    {
     "data": {
      "text/plain": [
       "environ{'ALLUSERSPROFILE': 'C:\\\\ProgramData',\n",
       "        'APPDATA': 'C:\\\\Users\\\\hu612\\\\AppData\\\\Roaming',\n",
       "        'COMMONPROGRAMFILES': 'C:\\\\Program Files\\\\Common Files',\n",
       "        'COMMONPROGRAMFILES(X86)': 'C:\\\\Program Files (x86)\\\\Common Files',\n",
       "        'COMMONPROGRAMW6432': 'C:\\\\Program Files\\\\Common Files',\n",
       "        'COMPUTERNAME': 'LAPTOP-G67V647P',\n",
       "        'COMSPEC': 'C:\\\\windows\\\\system32\\\\cmd.exe',\n",
       "        'CUDA_PATH': 'C:\\\\Program Files\\\\NVIDIA GPU Computing Toolkit\\\\CUDA\\\\v11.1',\n",
       "        'CUDA_PATH_V11_1': 'C:\\\\Program Files\\\\NVIDIA GPU Computing Toolkit\\\\CUDA\\\\v11.1',\n",
       "        'DRIVERDATA': 'C:\\\\Windows\\\\System32\\\\Drivers\\\\DriverData',\n",
       "        'HOMEDRIVE': 'C:',\n",
       "        'HOMEPATH': '\\\\Users\\\\hu612',\n",
       "        'LOCALAPPDATA': 'C:\\\\Users\\\\hu612\\\\AppData\\\\Local',\n",
       "        'LOGONSERVER': '\\\\\\\\LAPTOP-G67V647P',\n",
       "        'NUMBER_OF_PROCESSORS': '8',\n",
       "        'NVCUDASAMPLES11_1_ROOT': 'C:\\\\ProgramData\\\\NVIDIA Corporation\\\\CUDA Samples\\\\v11.1',\n",
       "        'NVCUDASAMPLES_ROOT': 'C:\\\\ProgramData\\\\NVIDIA Corporation\\\\CUDA Samples\\\\v11.1',\n",
       "        'NVTOOLSEXT_PATH': 'C:\\\\Program Files\\\\NVIDIA Corporation\\\\NvToolsExt\\\\',\n",
       "        'ONEDRIVE': 'C:\\\\Users\\\\hu612\\\\OneDrive',\n",
       "        'ONEDRIVECONSUMER': 'C:\\\\Users\\\\hu612\\\\OneDrive',\n",
       "        'OS': 'Windows_NT',\n",
       "        'PATH': 'C:\\\\Users\\\\hu612\\\\Anaconda3;C:\\\\Users\\\\hu612\\\\Anaconda3\\\\Library\\\\mingw-w64\\\\bin;C:\\\\Users\\\\hu612\\\\Anaconda3\\\\Library\\\\usr\\\\bin;C:\\\\Users\\\\hu612\\\\Anaconda3\\\\Library\\\\bin;C:\\\\Users\\\\hu612\\\\Anaconda3\\\\Scripts;C:\\\\Program Files\\\\NVIDIA GPU Computing Toolkit\\\\CUDA\\\\v11.1\\\\bin;C:\\\\Program Files\\\\NVIDIA GPU Computing Toolkit\\\\CUDA\\\\v11.1\\\\libnvvp;;C:\\\\windows\\\\system32;C:\\\\windows;C:\\\\windows\\\\System32\\\\Wbem;C:\\\\windows\\\\System32\\\\WindowsPowerShell\\\\v1.0\\\\;C:\\\\windows\\\\System32\\\\OpenSSH\\\\;C:\\\\Program Files\\\\IBM\\\\SPSS\\\\Statistics\\\\25\\\\JRE\\\\bin;C:\\\\Program Files\\\\MATLAB\\\\R2020b\\\\bin;C:\\\\Program Files\\\\NVIDIA Corporation\\\\Nsight Compute 2020.2.0\\\\;C:\\\\Program Files (x86)\\\\NVIDIA Corporation\\\\PhysX\\\\Common;C:\\\\Users\\\\hu612\\\\Anaconda3;C:\\\\Users\\\\hu612\\\\Anaconda3\\\\Library\\\\mingw-w64\\\\bin;C:\\\\Users\\\\hu612\\\\Anaconda3\\\\Library\\\\usr\\\\bin;C:\\\\Users\\\\hu612\\\\Anaconda3\\\\Library\\\\bin;C:\\\\Users\\\\hu612\\\\Anaconda3\\\\Scripts;C:\\\\Users\\\\hu612\\\\AppData\\\\Local\\\\Microsoft\\\\WindowsApps;C:\\\\Program Files\\\\NVIDIA GPU Computing Toolkit\\\\CUDA\\\\v11.1\\\\bin;C:\\\\Program Files\\\\NVIDIA GPU Computing Toolkit\\\\CUDA\\\\v11.1\\\\extras\\\\CUPTI\\\\lib64;C:\\\\Program Files\\\\NVIDIA GPU Computing Toolkit\\\\CUDA\\\\v11.1\\\\include;',\n",
       "        'PATHEXT': '.COM;.EXE;.BAT;.CMD;.VBS;.VBE;.JS;.JSE;.WSF;.WSH;.MSC',\n",
       "        'PROCESSOR_ARCHITECTURE': 'AMD64',\n",
       "        'PROCESSOR_IDENTIFIER': 'Intel64 Family 6 Model 140 Stepping 1, GenuineIntel',\n",
       "        'PROCESSOR_LEVEL': '6',\n",
       "        'PROCESSOR_REVISION': '8c01',\n",
       "        'PROGRAMDATA': 'C:\\\\ProgramData',\n",
       "        'PROGRAMFILES': 'C:\\\\Program Files',\n",
       "        'PROGRAMFILES(X86)': 'C:\\\\Program Files (x86)',\n",
       "        'PROGRAMW6432': 'C:\\\\Program Files',\n",
       "        'PSMODULEPATH': 'C:\\\\Program Files\\\\WindowsPowerShell\\\\Modules;C:\\\\windows\\\\system32\\\\WindowsPowerShell\\\\v1.0\\\\Modules',\n",
       "        'PUBLIC': 'C:\\\\Users\\\\Public',\n",
       "        'SESSIONNAME': 'Console',\n",
       "        'SYSTEMDRIVE': 'C:',\n",
       "        'SYSTEMROOT': 'C:\\\\windows',\n",
       "        'TEMP': 'C:\\\\Users\\\\hu612\\\\AppData\\\\Local\\\\Temp',\n",
       "        'TMP': 'C:\\\\Users\\\\hu612\\\\AppData\\\\Local\\\\Temp',\n",
       "        'USERDOMAIN': 'LAPTOP-G67V647P',\n",
       "        'USERDOMAIN_ROAMINGPROFILE': 'LAPTOP-G67V647P',\n",
       "        'USERNAME': 'hu612',\n",
       "        'USERPROFILE': 'C:\\\\Users\\\\hu612',\n",
       "        'WINDIR': 'C:\\\\windows',\n",
       "        'ZES_ENABLE_SYSMAN': '1',\n",
       "        'CONDA_PREFIX': 'C:\\\\Users\\\\hu612\\\\Anaconda3',\n",
       "        'JPY_INTERRUPT_EVENT': '2848',\n",
       "        'IPY_INTERRUPT_EVENT': '2848',\n",
       "        'JPY_PARENT_PID': '2840',\n",
       "        'TERM': 'xterm-color',\n",
       "        'CLICOLOR': '1',\n",
       "        'PAGER': 'cat',\n",
       "        'GIT_PAGER': 'cat',\n",
       "        'MPLBACKEND': 'module://ipykernel.pylab.backend_inline'}"
      ]
     },
     "execution_count": 8,
     "metadata": {},
     "output_type": "execute_result"
    }
   ],
   "source": [
    "import os\n",
    "os.environ"
   ]
  },
  {
   "cell_type": "code",
   "execution_count": 9,
   "metadata": {},
   "outputs": [
    {
     "data": {
      "text/plain": [
       "'C:\\\\Users\\\\hu612\\\\Anaconda3;C:\\\\Users\\\\hu612\\\\Anaconda3\\\\Library\\\\mingw-w64\\\\bin;C:\\\\Users\\\\hu612\\\\Anaconda3\\\\Library\\\\usr\\\\bin;C:\\\\Users\\\\hu612\\\\Anaconda3\\\\Library\\\\bin;C:\\\\Users\\\\hu612\\\\Anaconda3\\\\Scripts;C:\\\\Program Files\\\\NVIDIA GPU Computing Toolkit\\\\CUDA\\\\v11.1\\\\bin;C:\\\\Program Files\\\\NVIDIA GPU Computing Toolkit\\\\CUDA\\\\v11.1\\\\libnvvp;;C:\\\\windows\\\\system32;C:\\\\windows;C:\\\\windows\\\\System32\\\\Wbem;C:\\\\windows\\\\System32\\\\WindowsPowerShell\\\\v1.0\\\\;C:\\\\windows\\\\System32\\\\OpenSSH\\\\;C:\\\\Program Files\\\\IBM\\\\SPSS\\\\Statistics\\\\25\\\\JRE\\\\bin;C:\\\\Program Files\\\\MATLAB\\\\R2020b\\\\bin;C:\\\\Program Files\\\\NVIDIA Corporation\\\\Nsight Compute 2020.2.0\\\\;C:\\\\Program Files (x86)\\\\NVIDIA Corporation\\\\PhysX\\\\Common;C:\\\\Users\\\\hu612\\\\Anaconda3;C:\\\\Users\\\\hu612\\\\Anaconda3\\\\Library\\\\mingw-w64\\\\bin;C:\\\\Users\\\\hu612\\\\Anaconda3\\\\Library\\\\usr\\\\bin;C:\\\\Users\\\\hu612\\\\Anaconda3\\\\Library\\\\bin;C:\\\\Users\\\\hu612\\\\Anaconda3\\\\Scripts;C:\\\\Users\\\\hu612\\\\AppData\\\\Local\\\\Microsoft\\\\WindowsApps;C:\\\\Program Files\\\\NVIDIA GPU Computing Toolkit\\\\CUDA\\\\v11.1\\\\bin;C:\\\\Program Files\\\\NVIDIA GPU Computing Toolkit\\\\CUDA\\\\v11.1\\\\extras\\\\CUPTI\\\\lib64;C:\\\\Program Files\\\\NVIDIA GPU Computing Toolkit\\\\CUDA\\\\v11.1\\\\include;'"
      ]
     },
     "execution_count": 9,
     "metadata": {},
     "output_type": "execute_result"
    }
   ],
   "source": [
    "os.environ['PATH']"
   ]
  },
  {
   "cell_type": "code",
   "execution_count": 10,
   "metadata": {},
   "outputs": [],
   "source": [
    "# 디렉토리 위치 변경하기\n",
    "os.chdir('c:/windows')"
   ]
  },
  {
   "cell_type": "code",
   "execution_count": 12,
   "metadata": {},
   "outputs": [
    {
     "data": {
      "text/plain": [
       "'c:\\\\windows'"
      ]
     },
     "execution_count": 12,
     "metadata": {},
     "output_type": "execute_result"
    }
   ],
   "source": [
    "# 디렉토리 위치 돌려받기\n",
    "os.getcwd()"
   ]
  },
  {
   "cell_type": "code",
   "execution_count": 13,
   "metadata": {},
   "outputs": [
    {
     "data": {
      "text/plain": [
       "0"
      ]
     },
     "execution_count": 13,
     "metadata": {},
     "output_type": "execute_result"
    }
   ],
   "source": [
    "# 시스템 명령어 호출하기\n",
    "os.system('dir')"
   ]
  },
  {
   "cell_type": "code",
   "execution_count": 14,
   "metadata": {},
   "outputs": [],
   "source": [
    "# 실행한 시스템 명령어의 결과값 돌려받기\n",
    "f = os.popen('dir')"
   ]
  },
  {
   "cell_type": "code",
   "execution_count": 15,
   "metadata": {},
   "outputs": [
    {
     "name": "stdout",
     "output_type": "stream",
     "text": [
      " C 드라이브의 볼륨에는 이름이 없습니다.\n",
      " 볼륨 일련 번호: 40B7-5523\n",
      "\n",
      " c:\\windows 디렉터리\n",
      "\n",
      "2021-06-03  오후 03:10    <DIR>          .\n",
      "2021-06-03  오후 03:10    <DIR>          ..\n",
      "2019-12-07  오후 06:50    <DIR>          addins\n",
      "2016-09-26  오후 05:46           370,070 adobe_acrobat_pro_dc.ico\n",
      "2016-09-26  오후 05:51           370,070 adobe_creative_cloud_all_apps.ico\n",
      "2016-09-26  오후 05:51           370,070 adobe_creative_cloud_all_apps_edge.ico\n",
      "2016-09-26  오후 05:55           370,070 adobe_premiere_pro_cc.ico\n",
      "2021-02-07  오후 09:03           132,932 AhnInst.log\n",
      "2021-01-16  오후 06:14    <DIR>          appcompat\n",
      "2021-02-07  오후 09:02    <DIR>          Application Data\n",
      "2021-05-24  오후 03:00    <DIR>          apppatch\n",
      "2021-06-08  오전 12:38    <DIR>          AppReadiness\n",
      "2021-04-17  오전 11:39    <DIR>          assembly\n",
      "2021-05-12  오전 10:37    <DIR>          bcastdvr\n",
      "2021-01-20  오후 05:03            77,824 bfsvc.exe\n",
      "2019-12-07  오후 06:31    <DIR>          Boot\n",
      "2019-12-07  오후 06:14    <DIR>          Branding\n",
      "2021-05-27  오후 08:47    <DIR>          CbsTemp\n",
      "2020-12-03  오후 02:34             1,290 comsetup.log\n",
      "2019-12-07  오후 06:14    <DIR>          Containers\n",
      "2019-12-07  오후 06:10            29,857 Core.xml\n",
      "2019-12-07  오후 06:10            29,857 CoreSingleLanguage.xml\n",
      "2020-12-03  오후 02:26                10 Csup.txt\n",
      "2019-12-07  오후 06:14    <DIR>          Cursors\n",
      "2021-01-19  오후 01:35    <DIR>          debug\n",
      "2020-12-03  오후 02:39            22,863 diagerr.xml\n",
      "2019-12-07  오후 06:31    <DIR>          diagnostics\n",
      "2021-05-12  오전 10:37    <DIR>          DiagTrack\n",
      "2020-12-03  오후 02:39            22,863 diagwrn.xml\n",
      "2019-12-07  오후 06:49    <DIR>          DigitalLocker\n",
      "2020-12-03  오후 02:10             4,188 DPINST.LOG\n",
      "2021-01-07  오전 01:40             6,400 DtcInstall.log\n",
      "2021-05-12  오전 10:37    <DIR>          en-US\n",
      "2021-05-12  오전 08:42         4,826,160 explorer.exe\n",
      "2021-01-19  오전 06:22    <DIR>          Firmware\n",
      "2019-12-07  오후 06:14    <DIR>          GameBarPresenceWriter\n",
      "2019-12-07  오후 06:31    <DIR>          Globalization\n",
      "2021-02-22  오후 02:33    <DIR>          HancomIME\n",
      "2019-12-07  오후 06:49    <DIR>          Help\n",
      "2021-04-17  오전 10:07         1,076,736 HelpPane.exe\n",
      "2019-12-07  오후 06:09            18,432 hh.exe\n",
      "2021-04-20  오전 02:32                89 hjimesv.ini\n",
      "2019-12-07  오후 06:31    <DIR>          IdentityCRL\n",
      "2021-01-20  오후 05:38    <DIR>          IME\n",
      "2021-05-12  오전 10:39    <DIR>          ImmersiveControlPanel\n",
      "2021-06-03  오후 03:58    <DIR>          INF\n",
      "2019-12-07  오후 06:14    <DIR>          InputMethod\n",
      "2021-05-12  오전 10:37    <DIR>          ko-KR\n",
      "2019-12-07  오후 06:14    <DIR>          L2Schemas\n",
      "2021-05-31  오후 11:25    <DIR>          LiveKernelReports\n",
      "2021-05-31  오후 07:41    <DIR>          Logs\n",
      "2020-12-03  오후 01:46             1,376 lsasetup.log\n",
      "2020-04-28  오후 04:59            24,060 mcafee_edge.ico\n",
      "2020-04-28  오후 04:59            24,060 mcafee_ie.ico\n",
      "2021-04-17  오후 04:35     1,288,500,026 MEMORY.DMP\n",
      "2019-12-07  오후 06:08            43,131 mib.bin\n",
      "2021-06-08  오전 12:37    <DIR>          Microsoft.NET\n",
      "2019-12-07  오후 06:14    <DIR>          Migration\n",
      "2021-04-17  오후 04:35    <DIR>          Minidump\n",
      "2019-12-07  오후 06:14    <DIR>          ModemLogs\n",
      "2012-08-06  오후 02:14         1,731,072 MSetCaller.exe\n",
      "2021-01-07  오전 12:10    <DIR>          MSetup\n",
      "2021-01-20  오후 05:04           202,240 notepad.exe\n",
      "2021-01-20  오전 03:21    <DIR>          OCR\n",
      "2019-12-07  오후 06:14    <DIR>          Offline Web Pages\n",
      "2021-01-16  오후 06:14    <DIR>          Panther\n",
      "2019-12-07  오후 06:14    <DIR>          Performance\n",
      "2021-05-19  오전 12:14            97,876 PFRO.log\n",
      "2019-12-07  오후 06:31    <DIR>          PLA\n",
      "2021-05-12  오전 10:37    <DIR>          PolicyDefinitions\n",
      "2021-06-08  오전 01:27    <DIR>          Prefetch\n",
      "2021-05-12  오전 10:37    <DIR>          PrintDialog\n",
      "2021-05-12  오전 10:37    <DIR>          Provisioning\n",
      "2021-05-26  오후 12:43               294 RDViewer_u.ini\n",
      "2021-01-20  오후 05:04           370,176 regedit.exe\n",
      "2021-05-19  오후 10:30    <DIR>          Registration\n",
      "2019-12-07  오후 06:14    <DIR>          rescache\n",
      "2019-12-07  오후 06:31    <DIR>          Resources\n",
      "2019-12-19  오후 04:07         2,877,104 RtlExUpd.dll\n",
      "2010-08-06  오후 05:09            16,018 Samsung.png\n",
      "2015-07-13  오후 06:15         1,644,118 samsungedu.ico\n",
      "2019-12-07  오후 06:14    <DIR>          SchCache\n",
      "2019-12-07  오후 06:31    <DIR>          schemas\n",
      "2020-12-04  오전 06:08    <DIR>          sec\n",
      "2018-06-12  오후 03:48         1,629,424 SecTimeSync.exe\n",
      "2019-12-07  오후 06:31    <DIR>          security\n",
      "2020-12-03  오후 01:46    <DIR>          ServiceProfiles\n",
      "2021-05-19  오전 10:33    <DIR>          ServiceState\n",
      "2021-02-12  오전 02:41    <DIR>          servicing\n",
      "2019-12-07  오후 06:18    <DIR>          Setup\n",
      "2021-06-03  오후 03:10            14,170 setupact.log\n",
      "2020-12-03  오후 02:34                 0 setuperr.log\n",
      "2021-01-20  오후 05:38    <DIR>          ShellComponents\n",
      "2021-01-20  오후 05:38    <DIR>          ShellExperiences\n",
      "2021-02-27  오후 04:26    <DIR>          ShellNew\n",
      "2019-12-07  오후 06:31    <DIR>          SKB\n",
      "2021-04-06  오후 11:15    <DIR>          SoftwareDistribution\n",
      "2019-12-07  오후 06:14    <DIR>          Speech\n",
      "2019-12-07  오후 06:14    <DIR>          Speech_OneCore\n",
      "2021-01-20  오후 05:03           136,192 splwow64.exe\n",
      "2015-07-15  오후 04:21           562,718 survey.ico\n",
      "2019-12-07  오후 06:14    <DIR>          System\n",
      "2019-12-07  오후 06:12               219 system.ini\n",
      "2021-05-29  오후 11:25    <DIR>          System32\n",
      "2020-09-21  오전 04:44    <DIR>          SystemApps\n",
      "2021-05-12  오전 10:37    <DIR>          SystemResources\n",
      "2021-05-29  오후 11:25    <DIR>          SysWOW64\n",
      "2019-12-07  오후 06:14    <DIR>          TAPI\n",
      "2021-02-15  오후 03:49    <DIR>          Tasks\n",
      "2021-01-26  오전 03:09           252,264 TbtP2pShortcutService.exe\n",
      "2021-06-08  오전 12:48    <DIR>          Temp\n",
      "2019-12-07  오후 06:14    <DIR>          tracing\n",
      "2020-04-21  오전 05:57    <DIR>          twain_32\n",
      "2019-12-07  오후 06:10            65,024 twain_32.dll\n",
      "2019-12-07  오후 06:14    <DIR>          Vss\n",
      "2019-12-07  오후 06:14    <DIR>          WaaS\n",
      "2019-12-07  오후 06:31    <DIR>          Web\n",
      "2020-12-03  오후 02:21               124 win.ini\n",
      "2021-06-08  오전 01:15               276 WindowsUpdate.log\n",
      "2019-12-07  오후 06:10            11,776 winhlp32.exe\n",
      "2021-05-27  오후 08:47    <DIR>          WinSxS\n",
      "2019-12-07  오후 06:52           316,640 WMSysPr9.prx\n",
      "2019-12-07  오전 06:29            11,264 write.exe\n",
      "2021-02-12  오전 12:08               108 YES24eBook.INI\n",
      "              45개 파일       1,306,261,531 바이트\n",
      "              79개 디렉터리  92,412,010,496 바이트 남음\n",
      "\n"
     ]
    }
   ],
   "source": [
    "print(f.read())"
   ]
  },
  {
   "cell_type": "markdown",
   "metadata": {},
   "source": [
    "#### shutil"
   ]
  },
  {
   "cell_type": "code",
   "execution_count": 22,
   "metadata": {},
   "outputs": [],
   "source": [
    "# 디렉토리 위치 변경하기\n",
    "os.chdir('C:/Users/hu612/Desktop/School/대학원/정보통계학과/여대학원생 공학연구팀제/6,7월_회의/')"
   ]
  },
  {
   "cell_type": "code",
   "execution_count": 24,
   "metadata": {},
   "outputs": [
    {
     "data": {
      "text/plain": [
       "'dst.txt'"
      ]
     },
     "execution_count": 24,
     "metadata": {},
     "output_type": "execute_result"
    }
   ],
   "source": [
    "# src라는 파일 이름으로 dst 디렉토리에 복사하고\n",
    "# 동일한 파일 이름이 있는 경우 덮어쓴다.\n",
    "import shutil\n",
    "shutil.copy(\"src.txt.txt\", \"dst.txt\")"
   ]
  },
  {
   "cell_type": "markdown",
   "metadata": {},
   "source": [
    "#### glob"
   ]
  },
  {
   "cell_type": "code",
   "execution_count": 26,
   "metadata": {},
   "outputs": [
    {
     "data": {
      "text/plain": [
       "[]"
      ]
     },
     "execution_count": 26,
     "metadata": {},
     "output_type": "execute_result"
    }
   ],
   "source": [
    "import glob\n",
    "glob.glob(\"c:/doit/mark*\") # mark로 시작하는 파일을 모두 찾아서 읽어드림"
   ]
  },
  {
   "cell_type": "markdown",
   "metadata": {},
   "source": [
    "#### tempfile\n",
    "\n",
    "파일을 임시로 만들어서 사용할 때 유용한 모듈이 바로 tempfile 이다."
   ]
  },
  {
   "cell_type": "code",
   "execution_count": 27,
   "metadata": {},
   "outputs": [
    {
     "data": {
      "text/plain": [
       "(4, 'C:\\\\Users\\\\hu612\\\\AppData\\\\Local\\\\Temp\\\\tmpn_skbcmn')"
      ]
     },
     "execution_count": 27,
     "metadata": {},
     "output_type": "execute_result"
    }
   ],
   "source": [
    "import tempfile\n",
    "filename = tempfile.mkstemp()\n",
    "filename"
   ]
  },
  {
   "cell_type": "code",
   "execution_count": 28,
   "metadata": {},
   "outputs": [],
   "source": [
    "# 임시 저장 공간으로 사용한 파일 객체를 돌려준다.\n",
    "import tempfile\n",
    "f = tempfile.TemporaryFile()\n",
    "# 파일 객체가 자동으로 사라지는 코드\n",
    "f.close()"
   ]
  },
  {
   "cell_type": "markdown",
   "metadata": {},
   "source": [
    "#### time"
   ]
  },
  {
   "cell_type": "code",
   "execution_count": 29,
   "metadata": {},
   "outputs": [
    {
     "data": {
      "text/plain": [
       "1623083727.6283288"
      ]
     },
     "execution_count": 29,
     "metadata": {},
     "output_type": "execute_result"
    }
   ],
   "source": [
    "import time\n",
    "time.time() # UTC를 사용해 현재 시간을 실수 형태로 돌려주는 함수"
   ]
  },
  {
   "cell_type": "code",
   "execution_count": 30,
   "metadata": {},
   "outputs": [
    {
     "data": {
      "text/plain": [
       "time.struct_time(tm_year=2021, tm_mon=6, tm_mday=8, tm_hour=1, tm_min=36, tm_sec=11, tm_wday=1, tm_yday=159, tm_isdst=0)"
      ]
     },
     "execution_count": 30,
     "metadata": {},
     "output_type": "execute_result"
    }
   ],
   "source": [
    "time.localtime(time.time()) # 연도, 월, 일, 시. 분, 초,..."
   ]
  },
  {
   "cell_type": "code",
   "execution_count": 31,
   "metadata": {},
   "outputs": [
    {
     "data": {
      "text/plain": [
       "'Tue Jun  8 01:36:46 2021'"
      ]
     },
     "execution_count": 31,
     "metadata": {},
     "output_type": "execute_result"
    }
   ],
   "source": [
    "# 반환된 튜플 형태의 값을 인수로 받아 날짜와 시간을 알아보기 쉬운 형태로\n",
    "# 돌려주는 함수이다.\n",
    "time.asctime(time.localtime(time.time())) "
   ]
  },
  {
   "cell_type": "code",
   "execution_count": 32,
   "metadata": {},
   "outputs": [
    {
     "data": {
      "text/plain": [
       "'Tue Jun  8 01:37:27 2021'"
      ]
     },
     "execution_count": 32,
     "metadata": {},
     "output_type": "execute_result"
    }
   ],
   "source": [
    "time.ctime()"
   ]
  },
  {
   "cell_type": "code",
   "execution_count": 33,
   "metadata": {},
   "outputs": [
    {
     "data": {
      "text/plain": [
       "'출력할 형식 포맷 코드'"
      ]
     },
     "execution_count": 33,
     "metadata": {},
     "output_type": "execute_result"
    }
   ],
   "source": [
    "# 시간에 관계된 것을 세밀하게 표현하는 여러 가지 포맷 코드를 제공\n",
    "time.strftime('출력할 형식 포맷 코드', time.localtime(time.time()))"
   ]
  },
  {
   "cell_type": "code",
   "execution_count": 34,
   "metadata": {},
   "outputs": [
    {
     "data": {
      "text/plain": [
       "'Tue Jun  8 01:43:02 2021'"
      ]
     },
     "execution_count": 34,
     "metadata": {},
     "output_type": "execute_result"
    }
   ],
   "source": [
    "import time\n",
    "time.strftime('%x', time.localtime(time.time()))\n",
    "time.strftime('%c', time.localtime(time.time()))"
   ]
  },
  {
   "cell_type": "code",
   "execution_count": 35,
   "metadata": {},
   "outputs": [
    {
     "name": "stdout",
     "output_type": "stream",
     "text": [
      "0\n",
      "1\n",
      "2\n",
      "3\n",
      "4\n",
      "5\n",
      "6\n",
      "7\n",
      "8\n",
      "9\n"
     ]
    }
   ],
   "source": [
    "import time\n",
    "for i in range(10):\n",
    "    print(i)\n",
    "    time.sleep(1)"
   ]
  },
  {
   "cell_type": "markdown",
   "metadata": {},
   "source": [
    "#### calendar\n",
    "\n",
    "파이썬에서 달력을 볼 수 있게 해주는 모듈이다."
   ]
  },
  {
   "cell_type": "code",
   "execution_count": 46,
   "metadata": {},
   "outputs": [
    {
     "name": "stdout",
     "output_type": "stream",
     "text": [
      "                                  2021\n",
      "\n",
      "      January                   February                   March\n",
      "Mo Tu We Th Fr Sa Su      Mo Tu We Th Fr Sa Su      Mo Tu We Th Fr Sa Su\n",
      "             1  2  3       1  2  3  4  5  6  7       1  2  3  4  5  6  7\n",
      " 4  5  6  7  8  9 10       8  9 10 11 12 13 14       8  9 10 11 12 13 14\n",
      "11 12 13 14 15 16 17      15 16 17 18 19 20 21      15 16 17 18 19 20 21\n",
      "18 19 20 21 22 23 24      22 23 24 25 26 27 28      22 23 24 25 26 27 28\n",
      "25 26 27 28 29 30 31                                29 30 31\n",
      "\n",
      "       April                      May                       June\n",
      "Mo Tu We Th Fr Sa Su      Mo Tu We Th Fr Sa Su      Mo Tu We Th Fr Sa Su\n",
      "          1  2  3  4                      1  2          1  2  3  4  5  6\n",
      " 5  6  7  8  9 10 11       3  4  5  6  7  8  9       7  8  9 10 11 12 13\n",
      "12 13 14 15 16 17 18      10 11 12 13 14 15 16      14 15 16 17 18 19 20\n",
      "19 20 21 22 23 24 25      17 18 19 20 21 22 23      21 22 23 24 25 26 27\n",
      "26 27 28 29 30            24 25 26 27 28 29 30      28 29 30\n",
      "                          31\n",
      "\n",
      "        July                     August                  September\n",
      "Mo Tu We Th Fr Sa Su      Mo Tu We Th Fr Sa Su      Mo Tu We Th Fr Sa Su\n",
      "          1  2  3  4                         1             1  2  3  4  5\n",
      " 5  6  7  8  9 10 11       2  3  4  5  6  7  8       6  7  8  9 10 11 12\n",
      "12 13 14 15 16 17 18       9 10 11 12 13 14 15      13 14 15 16 17 18 19\n",
      "19 20 21 22 23 24 25      16 17 18 19 20 21 22      20 21 22 23 24 25 26\n",
      "26 27 28 29 30 31         23 24 25 26 27 28 29      27 28 29 30\n",
      "                          30 31\n",
      "\n",
      "      October                   November                  December\n",
      "Mo Tu We Th Fr Sa Su      Mo Tu We Th Fr Sa Su      Mo Tu We Th Fr Sa Su\n",
      "             1  2  3       1  2  3  4  5  6  7             1  2  3  4  5\n",
      " 4  5  6  7  8  9 10       8  9 10 11 12 13 14       6  7  8  9 10 11 12\n",
      "11 12 13 14 15 16 17      15 16 17 18 19 20 21      13 14 15 16 17 18 19\n",
      "18 19 20 21 22 23 24      22 23 24 25 26 27 28      20 21 22 23 24 25 26\n",
      "25 26 27 28 29 30 31      29 30                     27 28 29 30 31\n",
      "\n"
     ]
    }
   ],
   "source": [
    "import calendar\n",
    "print(calendar.calendar(2021))"
   ]
  },
  {
   "cell_type": "code",
   "execution_count": 41,
   "metadata": {},
   "outputs": [
    {
     "name": "stdout",
     "output_type": "stream",
     "text": [
      "   February 2022\n",
      "Mo Tu We Th Fr Sa Su\n",
      "    1  2  3  4  5  6\n",
      " 7  8  9 10 11 12 13\n",
      "14 15 16 17 18 19 20\n",
      "21 22 23 24 25 26 27\n",
      "28\n"
     ]
    }
   ],
   "source": [
    "calendar.prmonth(2022,2)"
   ]
  },
  {
   "cell_type": "code",
   "execution_count": 42,
   "metadata": {},
   "outputs": [
    {
     "data": {
      "text/plain": [
       "3"
      ]
     },
     "execution_count": 42,
     "metadata": {},
     "output_type": "execute_result"
    }
   ],
   "source": [
    "# calendar.weekday(연도, 월, 일)\n",
    "# 0월, 1화, 2수, 3목, 4금, 5토, 6일\n",
    "calendar.weekday(2015,12,31)"
   ]
  },
  {
   "cell_type": "code",
   "execution_count": 43,
   "metadata": {},
   "outputs": [
    {
     "data": {
      "text/plain": [
       "(1, 31)"
      ]
     },
     "execution_count": 43,
     "metadata": {},
     "output_type": "execute_result"
    }
   ],
   "source": [
    "calendar.monthrange(2015,12)"
   ]
  },
  {
   "cell_type": "markdown",
   "metadata": {},
   "source": [
    "#### random\n",
    "\n",
    "난수를 발생시키는 모듈이다. random과 randint에 대해서 알아보자."
   ]
  },
  {
   "cell_type": "code",
   "execution_count": 47,
   "metadata": {},
   "outputs": [
    {
     "data": {
      "text/plain": [
       "0.24087193658413264"
      ]
     },
     "execution_count": 47,
     "metadata": {},
     "output_type": "execute_result"
    }
   ],
   "source": [
    "import random\n",
    "random.random()"
   ]
  },
  {
   "cell_type": "code",
   "execution_count": 50,
   "metadata": {},
   "outputs": [
    {
     "data": {
      "text/plain": [
       "9"
      ]
     },
     "execution_count": 50,
     "metadata": {},
     "output_type": "execute_result"
    }
   ],
   "source": [
    "random.randint(1,10)"
   ]
  },
  {
   "cell_type": "code",
   "execution_count": 51,
   "metadata": {},
   "outputs": [
    {
     "data": {
      "text/plain": [
       "11"
      ]
     },
     "execution_count": 51,
     "metadata": {},
     "output_type": "execute_result"
    }
   ],
   "source": [
    "random.randint(1,55)"
   ]
  },
  {
   "cell_type": "code",
   "execution_count": 52,
   "metadata": {},
   "outputs": [
    {
     "name": "stdout",
     "output_type": "stream",
     "text": [
      "1\n",
      "3\n",
      "4\n",
      "2\n",
      "5\n"
     ]
    }
   ],
   "source": [
    "import random\n",
    "def random_pop(data):\n",
    "    number = random.randint(0, len(data)-1)\n",
    "    return data.pop(number)\n",
    "\n",
    "if __name__ == \"__main__\":\n",
    "    data = [1, 2, 3, 4, 5]\n",
    "    while data: \n",
    "        print(random_pop(data))"
   ]
  },
  {
   "cell_type": "code",
   "execution_count": 53,
   "metadata": {},
   "outputs": [],
   "source": [
    "def random_pop(data):\n",
    "    number = random.choice(data)\n",
    "    data.remove(number)\n",
    "    return number"
   ]
  },
  {
   "cell_type": "code",
   "execution_count": 54,
   "metadata": {},
   "outputs": [
    {
     "data": {
      "text/plain": [
       "[4, 2, 5, 3, 1]"
      ]
     },
     "execution_count": 54,
     "metadata": {},
     "output_type": "execute_result"
    }
   ],
   "source": [
    "import random\n",
    "data = [1,2,3,4,5]\n",
    "random.shuffle(data)\n",
    "data"
   ]
  },
  {
   "cell_type": "markdown",
   "metadata": {},
   "source": [
    "#### webbrowser"
   ]
  },
  {
   "cell_type": "code",
   "execution_count": 55,
   "metadata": {},
   "outputs": [
    {
     "data": {
      "text/plain": [
       "True"
      ]
     },
     "execution_count": 55,
     "metadata": {},
     "output_type": "execute_result"
    }
   ],
   "source": [
    "import webbrowser\n",
    "webbrowser.open('http://google.com')"
   ]
  },
  {
   "cell_type": "code",
   "execution_count": 56,
   "metadata": {},
   "outputs": [
    {
     "data": {
      "text/plain": [
       "True"
      ]
     },
     "execution_count": 56,
     "metadata": {},
     "output_type": "execute_result"
    }
   ],
   "source": [
    "webbrowser.open_new('http://google.com')"
   ]
  },
  {
   "cell_type": "code",
   "execution_count": null,
   "metadata": {},
   "outputs": [],
   "source": []
  }
 ],
 "metadata": {
  "kernelspec": {
   "display_name": "Python 3",
   "language": "python",
   "name": "python3"
  },
  "language_info": {
   "codemirror_mode": {
    "name": "ipython",
    "version": 3
   },
   "file_extension": ".py",
   "mimetype": "text/x-python",
   "name": "python",
   "nbconvert_exporter": "python",
   "pygments_lexer": "ipython3",
   "version": "3.8.5"
  }
 },
 "nbformat": 4,
 "nbformat_minor": 4
}
